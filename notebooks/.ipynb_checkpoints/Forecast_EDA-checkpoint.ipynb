{
 "cells": [
  {
   "cell_type": "code",
   "execution_count": 60,
   "metadata": {},
   "outputs": [],
   "source": [
    "%reload_ext autoreload\n",
    "%autoreload 2\n",
    "%matplotlib inline"
   ]
  },
  {
   "cell_type": "code",
   "execution_count": 61,
   "metadata": {},
   "outputs": [],
   "source": [
    "import numpy\n",
    "import matplotlib.pyplot as plt\n",
    "import pandas as pd\n",
    "import seaborn as sns\n",
    "sns.set(style=\"whitegrid\", color_codes=True)"
   ]
  },
  {
   "cell_type": "code",
   "execution_count": 62,
   "metadata": {},
   "outputs": [],
   "source": [
    "data = pd.read_csv('../data/master.csv')"
   ]
  },
  {
   "cell_type": "code",
   "execution_count": 63,
   "metadata": {},
   "outputs": [],
   "source": [
    "def extract_date(data):\n",
    "    date, _ = data.split(' ')\n",
    "    return date"
   ]
  },
  {
   "cell_type": "code",
   "execution_count": 129,
   "metadata": {},
   "outputs": [
    {
     "data": {
      "text/plain": [
       "(15214, 38)"
      ]
     },
     "execution_count": 129,
     "metadata": {},
     "output_type": "execute_result"
    }
   ],
   "source": [
    "data.shape"
   ]
  },
  {
   "cell_type": "code",
   "execution_count": 65,
   "metadata": {},
   "outputs": [
    {
     "data": {
      "text/plain": [
       "0   2014-03-27\n",
       "1   2014-05-03\n",
       "2   2014-10-12\n",
       "3   2013-11-16\n",
       "4   2014-02-23\n",
       "Name: date, dtype: datetime64[ns]"
      ]
     },
     "execution_count": 65,
     "metadata": {},
     "output_type": "execute_result"
    }
   ],
   "source": [
    "data['date'] = data['timestamp'].apply(lambda x : extract_date(x))\n",
    "data['date'] =  pd.to_datetime(data['date'])\n",
    "data['date'].head()"
   ]
  },
  {
   "cell_type": "code",
   "execution_count": 66,
   "metadata": {},
   "outputs": [
    {
     "data": {
      "text/plain": [
       "0   2014-03-27 09:00:00\n",
       "1   2014-05-03 18:26:00\n",
       "2   2014-10-12 10:10:00\n",
       "3   2013-11-16 08:21:00\n",
       "4   2014-02-23 21:15:00\n",
       "Name: timestamp, dtype: datetime64[ns]"
      ]
     },
     "execution_count": 66,
     "metadata": {},
     "output_type": "execute_result"
    }
   ],
   "source": [
    "data['timestamp'] = pd.to_datetime(data['timestamp'])\n",
    "data['timestamp'].head()"
   ]
  },
  {
   "cell_type": "code",
   "execution_count": 67,
   "metadata": {},
   "outputs": [],
   "source": [
    "data['day'] = data['timestamp'].dt.day\n",
    "data['month'] = data['timestamp'].dt.month\n",
    "data['year'] = data['timestamp'].dt.year\n",
    "data['dayofweek'] = data['timestamp'].dt.dayofweek"
   ]
  },
  {
   "cell_type": "code",
   "execution_count": 126,
   "metadata": {},
   "outputs": [
    {
     "data": {
      "image/png": "[encoded data removed]",
      "text/plain": [
       "<matplotlib.figure.Figure at 0x11c28de48>"
      ]
     },
     "metadata": {},
     "output_type": "display_data"
    }
   ],
   "source": [
    "# Day Analysis\n",
    "# Monday=0, Sunday=6\n",
    "select_cols = ['dayofweek', 'Case-Id']\n",
    "train_df = data[select_cols]\n",
    "date_df = train_df.groupby(['dayofweek'], as_index=True).agg(['count'])\n",
    "date_df['dayofweek'] = date_df.index\n",
    "date_df['dayc'] = date_df['Case-Id']['count']\n",
    "#date_df.head()\n",
    "ax = sns.barplot(x=\"dayofweek\", y=\"dayc\", data=date_df)\n",
    "# Wednesday has the highest number of cases"
   ]
  },
  {
   "cell_type": "code",
   "execution_count": 128,
   "metadata": {},
   "outputs": [
    {
     "data": {
      "image/png": "[encoded data removed]",
      "text/plain": [
       "<matplotlib.figure.Figure at 0x11bfa89e8>"
      ]
     },
     "metadata": {},
     "output_type": "display_data"
    }
   ],
   "source": [
    "# May has the most number of cases\n",
    "select_cols = ['month', 'Case-Id']\n",
    "train_df = data[select_cols]\n",
    "date_df = train_df.groupby(['month'], as_index=True).agg(['count'])\n",
    "date_df['month'] = date_df.index\n",
    "date_df['monthc'] = date_df['Case-Id']['count']\n",
    "#date_df.head()\n",
    "ax = sns.barplot(x=\"month\", y=\"monthc\", data=date_df)"
   ]
  },
  {
   "cell_type": "code",
   "execution_count": 84,
   "metadata": {},
   "outputs": [
    {
     "data": {
      "image/png": "[encoded data removed]",
      "text/plain": [
       "<matplotlib.figure.Figure at 0x11bfcf048>"
      ]
     },
     "metadata": {},
     "output_type": "display_data"
    }
   ],
   "source": [
    "select_cols = ['year', 'Case-Id']\n",
    "train_df = data[select_cols]\n",
    "date_df = train_df.groupby(['year'], as_index=True).agg(['count'])\n",
    "date_df['year'] = date_df.index\n",
    "date_df['yearc'] = date_df['Case-Id']['count']\n",
    "#date_df.head()\n",
    "ax = sns.barplot(x=\"year\", y=\"yearc\", data=date_df)"
   ]
  },
  {
   "cell_type": "code",
   "execution_count": null,
   "metadata": {},
   "outputs": [],
   "source": []
  }
 ],
 "metadata": {
  "kernelspec": {
   "display_name": "Python 3",
   "language": "python",
   "name": "python3"
  },
  "language_info": {
   "codemirror_mode": {
    "name": "ipython",
    "version": 3
   },
   "file_extension": ".py",
   "mimetype": "text/x-python",
   "name": "python",
   "nbconvert_exporter": "python",
   "pygments_lexer": "ipython3",
   "version": "3.6.3"
  }
 },
 "nbformat": 4,
 "nbformat_minor": 2
}
