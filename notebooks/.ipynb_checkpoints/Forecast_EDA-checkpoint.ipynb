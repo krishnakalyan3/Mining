{
 "cells": [
  {
   "cell_type": "code",
   "execution_count": 1,
   "metadata": {},
   "outputs": [],
   "source": [
    "%reload_ext autoreload\n",
    "%autoreload 2\n",
    "%matplotlib inline"
   ]
  },
  {
   "cell_type": "code",
   "execution_count": 2,
   "metadata": {},
   "outputs": [],
   "source": [
    "import numpy\n",
    "import matplotlib.pyplot as plt\n",
    "import pandas as pd\n",
    "import seaborn as sns\n",
    "sns.set(style=\"whitegrid\", color_codes=True)"
   ]
  },
  {
   "cell_type": "code",
   "execution_count": 35,
   "metadata": {},
   "outputs": [],
   "source": [
    "data = pd.read_csv('../data/master.csv')"
   ]
  },
  {
   "cell_type": "code",
   "execution_count": 32,
   "metadata": {},
   "outputs": [],
   "source": [
    "def extract_date(data):\n",
    "    date, _ = data.split(' ')\n",
    "    return date"
   ]
  },
  {
   "cell_type": "code",
   "execution_count": 54,
   "metadata": {},
   "outputs": [
    {
     "data": {
      "text/html": [
       "<div>\n",
       "<style>\n",
       "    .dataframe thead tr:only-child th {\n",
       "        text-align: right;\n",
       "    }\n",
       "\n",
       "    .dataframe thead th {\n",
       "        text-align: left;\n",
       "    }\n",
       "\n",
       "    .dataframe tbody tr th {\n",
       "        vertical-align: top;\n",
       "    }\n",
       "</style>\n",
       "<table border=\"1\" class=\"dataframe\">\n",
       "  <thead>\n",
       "    <tr style=\"text-align: right;\">\n",
       "      <th></th>\n",
       "      <th>0</th>\n",
       "      <th>1</th>\n",
       "      <th>2</th>\n",
       "      <th>3</th>\n",
       "      <th>4</th>\n",
       "      <th>5</th>\n",
       "      <th>6</th>\n",
       "      <th>7</th>\n",
       "      <th>8</th>\n",
       "      <th>9</th>\n",
       "      <th>...</th>\n",
       "      <th>15204</th>\n",
       "      <th>15205</th>\n",
       "      <th>15206</th>\n",
       "      <th>15207</th>\n",
       "      <th>15208</th>\n",
       "      <th>15209</th>\n",
       "      <th>15210</th>\n",
       "      <th>15211</th>\n",
       "      <th>15212</th>\n",
       "      <th>15213</th>\n",
       "    </tr>\n",
       "  </thead>\n",
       "  <tbody>\n",
       "    <tr>\n",
       "      <th>Case-Id</th>\n",
       "      <td>232</td>\n",
       "      <td>425</td>\n",
       "      <td>728</td>\n",
       "      <td>978</td>\n",
       "      <td>11</td>\n",
       "      <td>40</td>\n",
       "      <td>46</td>\n",
       "      <td>51</td>\n",
       "      <td>67</td>\n",
       "      <td>68</td>\n",
       "      <td>...</td>\n",
       "      <td>1047</td>\n",
       "      <td>1048</td>\n",
       "      <td>1048</td>\n",
       "      <td>1048</td>\n",
       "      <td>1049</td>\n",
       "      <td>1049</td>\n",
       "      <td>1049</td>\n",
       "      <td>1049</td>\n",
       "      <td>1049</td>\n",
       "      <td>1049</td>\n",
       "    </tr>\n",
       "    <tr>\n",
       "      <th>Case-concept:name</th>\n",
       "      <td>XH</td>\n",
       "      <td>JP</td>\n",
       "      <td>ABA</td>\n",
       "      <td>QKA</td>\n",
       "      <td>K</td>\n",
       "      <td>NaN</td>\n",
       "      <td>TA</td>\n",
       "      <td>YA</td>\n",
       "      <td>OB</td>\n",
       "      <td>PB</td>\n",
       "      <td>...</td>\n",
       "      <td>INA</td>\n",
       "      <td>JNA</td>\n",
       "      <td>JNA</td>\n",
       "      <td>JNA</td>\n",
       "      <td>KNA</td>\n",
       "      <td>KNA</td>\n",
       "      <td>KNA</td>\n",
       "      <td>KNA</td>\n",
       "      <td>KNA</td>\n",
       "      <td>KNA</td>\n",
       "    </tr>\n",
       "    <tr>\n",
       "      <th>Event-Id</th>\n",
       "      <td>3078</td>\n",
       "      <td>6195</td>\n",
       "      <td>10599</td>\n",
       "      <td>14200</td>\n",
       "      <td>132</td>\n",
       "      <td>455</td>\n",
       "      <td>521</td>\n",
       "      <td>562</td>\n",
       "      <td>746</td>\n",
       "      <td>760</td>\n",
       "      <td>...</td>\n",
       "      <td>15193</td>\n",
       "      <td>15194</td>\n",
       "      <td>15195</td>\n",
       "      <td>15196</td>\n",
       "      <td>15197</td>\n",
       "      <td>15198</td>\n",
       "      <td>15199</td>\n",
       "      <td>15203</td>\n",
       "      <td>15204</td>\n",
       "      <td>15205</td>\n",
       "    </tr>\n",
       "    <tr>\n",
       "      <th>sorting</th>\n",
       "      <td>20</td>\n",
       "      <td>5</td>\n",
       "      <td>6</td>\n",
       "      <td>4</td>\n",
       "      <td>6</td>\n",
       "      <td>14</td>\n",
       "      <td>8</td>\n",
       "      <td>4</td>\n",
       "      <td>14</td>\n",
       "      <td>12</td>\n",
       "      <td>...</td>\n",
       "      <td>3</td>\n",
       "      <td>1</td>\n",
       "      <td>2</td>\n",
       "      <td>3</td>\n",
       "      <td>1</td>\n",
       "      <td>2</td>\n",
       "      <td>3</td>\n",
       "      <td>7</td>\n",
       "      <td>8</td>\n",
       "      <td>9</td>\n",
       "    </tr>\n",
       "    <tr>\n",
       "      <th>timestamp</th>\n",
       "      <td>2014-03-27 09:00:00</td>\n",
       "      <td>2014-05-03 18:26:00</td>\n",
       "      <td>2014-10-12 10:10:00</td>\n",
       "      <td>2013-11-16 08:21:00</td>\n",
       "      <td>2014-02-23 21:15:00</td>\n",
       "      <td>2014-11-13 06:00:00</td>\n",
       "      <td>2014-08-10 06:00:00</td>\n",
       "      <td>2014-07-10 10:54:00</td>\n",
       "      <td>2014-12-12 06:00:00</td>\n",
       "      <td>2015-01-19 10:00:00</td>\n",
       "      <td>...</td>\n",
       "      <td>2014-11-03 09:45:51</td>\n",
       "      <td>2014-11-12 16:40:19</td>\n",
       "      <td>2014-11-12 16:47:25</td>\n",
       "      <td>2014-11-12 16:47:39</td>\n",
       "      <td>2014-12-11 22:28:38</td>\n",
       "      <td>2014-12-11 22:52:48</td>\n",
       "      <td>2014-12-11 22:53:16</td>\n",
       "      <td>2014-12-12 04:03:38</td>\n",
       "      <td>2014-12-12 04:03:43</td>\n",
       "      <td>2014-12-12 04:06:38</td>\n",
       "    </tr>\n",
       "  </tbody>\n",
       "</table>\n",
       "<p>5 rows × 15214 columns</p>\n",
       "</div>"
      ],
      "text/plain": [
       "                                 0                    1      \\\n",
       "Case-Id                            232                  425   \n",
       "Case-concept:name                   XH                   JP   \n",
       "Event-Id                          3078                 6195   \n",
       "sorting                             20                    5   \n",
       "timestamp          2014-03-27 09:00:00  2014-05-03 18:26:00   \n",
       "\n",
       "                                 2                    3      \\\n",
       "Case-Id                            728                  978   \n",
       "Case-concept:name                  ABA                  QKA   \n",
       "Event-Id                         10599                14200   \n",
       "sorting                              6                    4   \n",
       "timestamp          2014-10-12 10:10:00  2013-11-16 08:21:00   \n",
       "\n",
       "                                 4                    5      \\\n",
       "Case-Id                             11                   40   \n",
       "Case-concept:name                    K                  NaN   \n",
       "Event-Id                           132                  455   \n",
       "sorting                              6                   14   \n",
       "timestamp          2014-02-23 21:15:00  2014-11-13 06:00:00   \n",
       "\n",
       "                                 6                    7      \\\n",
       "Case-Id                             46                   51   \n",
       "Case-concept:name                   TA                   YA   \n",
       "Event-Id                           521                  562   \n",
       "sorting                              8                    4   \n",
       "timestamp          2014-08-10 06:00:00  2014-07-10 10:54:00   \n",
       "\n",
       "                                 8                    9      \\\n",
       "Case-Id                             67                   68   \n",
       "Case-concept:name                   OB                   PB   \n",
       "Event-Id                           746                  760   \n",
       "sorting                             14                   12   \n",
       "timestamp          2014-12-12 06:00:00  2015-01-19 10:00:00   \n",
       "\n",
       "                          ...                         15204  \\\n",
       "Case-Id                   ...                          1047   \n",
       "Case-concept:name         ...                           INA   \n",
       "Event-Id                  ...                         15193   \n",
       "sorting                   ...                             3   \n",
       "timestamp                 ...           2014-11-03 09:45:51   \n",
       "\n",
       "                                 15205                15206  \\\n",
       "Case-Id                           1048                 1048   \n",
       "Case-concept:name                  JNA                  JNA   \n",
       "Event-Id                         15194                15195   \n",
       "sorting                              1                    2   \n",
       "timestamp          2014-11-12 16:40:19  2014-11-12 16:47:25   \n",
       "\n",
       "                                 15207                15208  \\\n",
       "Case-Id                           1048                 1049   \n",
       "Case-concept:name                  JNA                  KNA   \n",
       "Event-Id                         15196                15197   \n",
       "sorting                              3                    1   \n",
       "timestamp          2014-11-12 16:47:39  2014-12-11 22:28:38   \n",
       "\n",
       "                                 15209                15210  \\\n",
       "Case-Id                           1049                 1049   \n",
       "Case-concept:name                  KNA                  KNA   \n",
       "Event-Id                         15198                15199   \n",
       "sorting                              2                    3   \n",
       "timestamp          2014-12-11 22:52:48  2014-12-11 22:53:16   \n",
       "\n",
       "                                 15211                15212  \\\n",
       "Case-Id                           1049                 1049   \n",
       "Case-concept:name                  KNA                  KNA   \n",
       "Event-Id                         15203                15204   \n",
       "sorting                              7                    8   \n",
       "timestamp          2014-12-12 04:03:38  2014-12-12 04:03:43   \n",
       "\n",
       "                                 15213  \n",
       "Case-Id                           1049  \n",
       "Case-concept:name                  KNA  \n",
       "Event-Id                         15205  \n",
       "sorting                              9  \n",
       "timestamp          2014-12-12 04:06:38  \n",
       "\n",
       "[5 rows x 15214 columns]"
      ]
     },
     "execution_count": 54,
     "metadata": {},
     "output_type": "execute_result"
    }
   ],
   "source": [
    "data.T.head()"
   ]
  },
  {
   "cell_type": "code",
   "execution_count": 42,
   "metadata": {},
   "outputs": [
    {
     "data": {
      "text/plain": [
       "0    2014-03-27\n",
       "1    2014-05-03\n",
       "2    2014-10-12\n",
       "3    2013-11-16\n",
       "4    2014-02-23\n",
       "Name: date, dtype: object"
      ]
     },
     "execution_count": 42,
     "metadata": {},
     "output_type": "execute_result"
    }
   ],
   "source": [
    "data['date'] = data['timestamp'].apply(lambda x : extract_date(x))\n",
    "data['date'].head()"
   ]
  },
  {
   "cell_type": "code",
   "execution_count": 44,
   "metadata": {},
   "outputs": [
    {
     "data": {
      "text/plain": [
       "0   2014-03-27 09:00:00\n",
       "1   2014-05-03 18:26:00\n",
       "2   2014-10-12 10:10:00\n",
       "3   2013-11-16 08:21:00\n",
       "4   2014-02-23 21:15:00\n",
       "Name: timestamp, dtype: datetime64[ns]"
      ]
     },
     "execution_count": 44,
     "metadata": {},
     "output_type": "execute_result"
    }
   ],
   "source": [
    "data['timestamp'] = pd.to_datetime(data['timestamp'])\n",
    "data['timestamp'].head()"
   ]
  },
  {
   "cell_type": "code",
   "execution_count": 51,
   "metadata": {},
   "outputs": [],
   "source": [
    "data['day'] = data['timestamp'].dt.day\n",
    "data['month'] = data['timestamp'].dt.month\n",
    "data['year'] = data['timestamp'].dt.year\n",
    "data['dayofweek'] = data['timestamp'].dt.dayofweek"
   ]
  },
  {
   "cell_type": "code",
   "execution_count": 56,
   "metadata": {},
   "outputs": [
    {
     "data": {
      "image/png": "[encoded data removed]",
      "text/plain": [
       "<matplotlib.figure.Figure at 0x119b03128>"
      ]
     },
     "metadata": {},
     "output_type": "display_data"
    }
   ],
   "source": [
    "# Day Analysis\n",
    "# Monday=0, Sunday=6\n",
    "ax = sns.barplot(x=\"dayofweek\", y=\"Case-Id\", data=data)"
   ]
  },
  {
   "cell_type": "code",
   "execution_count": 57,
   "metadata": {},
   "outputs": [
    {
     "data": {
      "image/png": "[encoded data removed]",
      "text/plain": [
       "<matplotlib.figure.Figure at 0x119bdb630>"
      ]
     },
     "metadata": {},
     "output_type": "display_data"
    }
   ],
   "source": [
    "ax = sns.barplot(x=\"month\", y=\"Case-Id\", data=data)"
   ]
  },
  {
   "cell_type": "code",
   "execution_count": 58,
   "metadata": {},
   "outputs": [
    {
     "data": {
      "image/png": "[encoded data removed]",
      "text/plain": [
       "<matplotlib.figure.Figure at 0x119d32860>"
      ]
     },
     "metadata": {},
     "output_type": "display_data"
    }
   ],
   "source": [
    "ax = sns.barplot(x=\"year\", y=\"Case-Id\", data=data)"
   ]
  },
  {
   "cell_type": "code",
   "execution_count": null,
   "metadata": {},
   "outputs": [],
   "source": []
  }
 ],
 "metadata": {
  "kernelspec": {
   "display_name": "Python 3",
   "language": "python",
   "name": "python3"
  },
  "language_info": {
   "codemirror_mode": {
    "name": "ipython",
    "version": 3
   },
   "file_extension": ".py",
   "mimetype": "text/x-python",
   "name": "python",
   "nbconvert_exporter": "python",
   "pygments_lexer": "ipython3",
   "version": "3.6.3"
  }
 },
 "nbformat": 4,
 "nbformat_minor": 2
}
